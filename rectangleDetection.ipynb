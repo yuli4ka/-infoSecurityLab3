{
  "nbformat": 4,
  "nbformat_minor": 0,
  "metadata": {
    "colab": {
      "name": "rectangleDetection.ipynb",
      "provenance": [],
      "collapsed_sections": [],
      "authorship_tag": "ABX9TyNVjVmzsO3IkL07QhKei/Av",
      "include_colab_link": true
    },
    "kernelspec": {
      "name": "python3",
      "display_name": "Python 3"
    }
  },
  "cells": [
    {
      "cell_type": "markdown",
      "metadata": {
        "id": "view-in-github",
        "colab_type": "text"
      },
      "source": [
        "<a href=\"https://colab.research.google.com/github/yuli4ka/-infoSecurityLab3/blob/main/rectangleDetection.ipynb\" target=\"_parent\"><img src=\"https://colab.research.google.com/assets/colab-badge.svg\" alt=\"Open In Colab\"/></a>"
      ]
    },
    {
      "cell_type": "code",
      "metadata": {
        "id": "wMFu8TBe1FfU"
      },
      "source": [
        "from keras.models import Sequential\r\n",
        "from keras.layers import Dense, Activation, Dropout\r\n",
        "from keras.optimizers import SGD\r\n",
        "\r\n",
        "import numpy as np\r\n",
        "import matplotlib.pyplot as plt\r\n",
        "import matplotlib\r\n",
        "%matplotlib inline"
      ],
      "execution_count": 1,
      "outputs": []
    },
    {
      "cell_type": "code",
      "metadata": {
        "id": "uN3NpuVF1M8g"
      },
      "source": [
        "num_images = 100000\r\n",
        "num_rectangles = 1\r\n",
        "image_size = 10\r\n",
        "min_rectangle_size = 2\r\n",
        "max_rectangle_size = 8"
      ],
      "execution_count": 2,
      "outputs": []
    },
    {
      "cell_type": "markdown",
      "metadata": {
        "id": "TAUJzaXP8RQM"
      },
      "source": [
        "Creating dataset"
      ]
    },
    {
      "cell_type": "code",
      "metadata": {
        "id": "tlBiRDTg1mFq"
      },
      "source": [
        "images = np.zeros((num_images, image_size, image_size))\r\n",
        "bound_boxes = np.zeros((num_images, num_rectangles, 4))"
      ],
      "execution_count": 3,
      "outputs": []
    },
    {
      "cell_type": "code",
      "metadata": {
        "id": "Jise2BAl2fVJ"
      },
      "source": [
        "for i in range(num_images):\r\n",
        "  for j in range(num_rectangles):\r\n",
        "    w, h = np.random.randint(min_rectangle_size, max_rectangle_size, size=2)\r\n",
        "    x0 = np.random.randint(0, image_size - w)\r\n",
        "    y0 = np.random.randint(0, image_size - h)\r\n",
        "    images[i, x0:x0+w, y0:y0+h] = 1\r\n",
        "    bound_boxes[i, j] = [x0, y0, w, h]"
      ],
      "execution_count": 4,
      "outputs": []
    },
    {
      "cell_type": "code",
      "metadata": {
        "colab": {
          "base_uri": "https://localhost:8080/",
          "height": 269
        },
        "id": "7FfbqfVK4Gup",
        "outputId": "02ac87de-8569-4b2f-e436-9fa3553e4e8d"
      },
      "source": [
        "i = np.random.randint(0, num_images)\r\n",
        "plt.imshow(images[i].T, cmap='Greys', interpolation='none', origin='lower', extent=[0, image_size, 0, image_size])\r\n",
        "for bound_box in bound_boxes[i]:\r\n",
        "    plt.gca().add_patch(matplotlib.patches.Rectangle((bound_box[0], bound_box[1]), bound_box[2], bound_box[3], ec='r', fc='none'))"
      ],
      "execution_count": 5,
      "outputs": [
        {
          "output_type": "display_data",
          "data": {
            "image/png": "[encoded data removed]",
            "text/plain": [
              "<Figure size 432x288 with 1 Axes>"
            ]
          },
          "metadata": {
            "tags": [],
            "needs_background": "light"
          }
        }
      ]
    },
    {
      "cell_type": "markdown",
      "metadata": {
        "id": "cGXuWvRU8VAh"
      },
      "source": [
        "Reshaping and normalizing"
      ]
    },
    {
      "cell_type": "code",
      "metadata": {
        "colab": {
          "base_uri": "https://localhost:8080/"
        },
        "id": "DjbMUHjM4vbe",
        "outputId": "730f53d2-9643-4e06-fb50-7c4c27fcfc7a"
      },
      "source": [
        "images.shape, np.mean(images), np.std(images)"
      ],
      "execution_count": 6,
      "outputs": [
        {
          "output_type": "execute_result",
          "data": {
            "text/plain": [
              "((100000, 30, 30), 0.07103195555555555, 0.2568782140344125)"
            ]
          },
          "metadata": {
            "tags": []
          },
          "execution_count": 6
        }
      ]
    },
    {
      "cell_type": "code",
      "metadata": {
        "id": "GajJSjUQ6ywS"
      },
      "source": [
        "X = images.reshape(num_images, -1)\r\n",
        "X = (X - np.mean(images)) / np.std(images)"
      ],
      "execution_count": 7,
      "outputs": []
    },
    {
      "cell_type": "code",
      "metadata": {
        "colab": {
          "base_uri": "https://localhost:8080/"
        },
        "id": "DcbEeldg6-W4",
        "outputId": "13b5804a-0c6f-4d95-cfbe-e87b96f42fb2"
      },
      "source": [
        "X.shape, np.mean(X), np.std(X)"
      ],
      "execution_count": 8,
      "outputs": [
        {
          "output_type": "execute_result",
          "data": {
            "text/plain": [
              "((100000, 900), 8.967270383032478e-17, 0.9999999999999993)"
            ]
          },
          "metadata": {
            "tags": []
          },
          "execution_count": 8
        }
      ]
    },
    {
      "cell_type": "code",
      "metadata": {
        "colab": {
          "base_uri": "https://localhost:8080/"
        },
        "id": "s9mZzYyn7UbA",
        "outputId": "09af716a-ffd5-46c7-ad36-6373b21adaa0"
      },
      "source": [
        "bound_boxes.shape, np.mean(bound_boxes), np.std(bound_boxes)"
      ],
      "execution_count": 9,
      "outputs": [
        {
          "output_type": "execute_result",
          "data": {
            "text/plain": [
              "((100000, 1, 4), 9.243795, 5.841082433759603)"
            ]
          },
          "metadata": {
            "tags": []
          },
          "execution_count": 9
        }
      ]
    },
    {
      "cell_type": "code",
      "metadata": {
        "id": "Ru-mKIXm7xDJ"
      },
      "source": [
        "Y = bound_boxes.reshape(num_images, -1)\r\n",
        "Y = Y / image_size"
      ],
      "execution_count": 10,
      "outputs": []
    },
    {
      "cell_type": "code",
      "metadata": {
        "colab": {
          "base_uri": "https://localhost:8080/"
        },
        "id": "bG0P47jo78gV",
        "outputId": "8359dbc9-5282-4da5-b217-52f89a1139da"
      },
      "source": [
        "Y.shape, np.mean(Y), np.std(Y)"
      ],
      "execution_count": 11,
      "outputs": [
        {
          "output_type": "execute_result",
          "data": {
            "text/plain": [
              "((100000, 4), 0.3081265, 0.19470274779198674)"
            ]
          },
          "metadata": {
            "tags": []
          },
          "execution_count": 11
        }
      ]
    },
    {
      "cell_type": "markdown",
      "metadata": {
        "id": "GcC2YUV48hrN"
      },
      "source": [
        "Get train and test set"
      ]
    },
    {
      "cell_type": "code",
      "metadata": {
        "id": "W2x5rNur8LET"
      },
      "source": [
        "i = int(num_images * 0.8)\r\n",
        "x_train = X[:i]\r\n",
        "y_train = Y[:i]\r\n",
        "x_test = X[i:]\r\n",
        "y_test = Y[i:]\r\n",
        "test_images = images[i:]\r\n",
        "test_boxes = bound_boxes[i:]"
      ],
      "execution_count": 12,
      "outputs": []
    },
    {
      "cell_type": "markdown",
      "metadata": {
        "id": "uDFGhHgn9Iur"
      },
      "source": [
        "Train model"
      ]
    },
    {
      "cell_type": "code",
      "metadata": {
        "id": "RLfNy5tE9GBC"
      },
      "source": [
        "model = Sequential()\r\n",
        "\r\n",
        "model.add(Dense(100, input_dim=X.shape[-1], activation='relu'))\r\n",
        "model.add(Dropout(0.5))\r\n",
        "model.add(Dense(64, activation='relu'))\r\n",
        "model.add(Dense(Y.shape[-1], activation='softmax'))\r\n",
        "\r\n",
        "model.compile('adadelta', 'mse', metrics = ['acc'],)"
      ],
      "execution_count": 13,
      "outputs": []
    },
    {
      "cell_type": "code",
      "metadata": {
        "id": "3Obt13bB-SW3"
      },
      "source": [
        "epoch_num = 30\r\n",
        "xc = range(epoch_num)"
      ],
      "execution_count": 14,
      "outputs": []
    },
    {
      "cell_type": "code",
      "metadata": {
        "colab": {
          "base_uri": "https://localhost:8080/",
          "height": 1000
        },
        "id": "cVYAuOLi-HLX",
        "outputId": "2ef6ba2e-51cd-4022-9065-6a9465c2a6fd"
      },
      "source": [
        "history = []\r\n",
        "for i in range(epoch_num):\r\n",
        "  history.append(model.fit(x_train, y_train, batch_size=50,validation_data=(x_test,y_test), epochs=1))\r\n",
        "    \r\n",
        "train_acc = []\r\n",
        "for i in range(epoch_num):\r\n",
        "  train_acc.append(history[i].history['acc'])\r\n",
        "    \r\n",
        "plt.figure()\r\n",
        "plt.plot(xc, train_acc)\r\n",
        "\r\n",
        "val_acc = []\r\n",
        "for i in range(epoch_num):\r\n",
        "  val_acc.append(history[i].history['val_acc'])\r\n",
        "\r\n",
        "plt.figure()\r\n",
        "plt.plot(xc, val_acc)"
      ],
      "execution_count": 15,
      "outputs": [
        {
          "output_type": "stream",
          "text": [
            "1600/1600 [==============================] - 8s 5ms/step - loss: 0.0795 - acc: 0.3241 - val_loss: 0.0528 - val_acc: 0.3990\n",
            "1600/1600 [==============================] - 6s 4ms/step - loss: 0.0697 - acc: 0.3666 - val_loss: 0.0460 - val_acc: 0.4629\n",
            "1600/1600 [==============================] - 5s 3ms/step - loss: 0.0643 - acc: 0.3964 - val_loss: 0.0420 - val_acc: 0.5072\n",
            "1600/1600 [==============================] - 5s 3ms/step - loss: 0.0599 - acc: 0.4216 - val_loss: 0.0392 - val_acc: 0.5353\n",
            "1600/1600 [==============================] - 5s 3ms/step - loss: 0.0569 - acc: 0.4368 - val_loss: 0.0371 - val_acc: 0.5563\n",
            "1600/1600 [==============================] - 5s 3ms/step - loss: 0.0542 - acc: 0.4522 - val_loss: 0.0352 - val_acc: 0.5708\n",
            "1600/1600 [==============================] - 5s 3ms/step - loss: 0.0515 - acc: 0.4658 - val_loss: 0.0337 - val_acc: 0.5816\n",
            "1600/1600 [==============================] - 5s 3ms/step - loss: 0.0498 - acc: 0.4719 - val_loss: 0.0323 - val_acc: 0.5914\n",
            "1600/1600 [==============================] - 5s 3ms/step - loss: 0.0480 - acc: 0.4805 - val_loss: 0.0313 - val_acc: 0.5982\n",
            "1600/1600 [==============================] - 5s 3ms/step - loss: 0.0465 - acc: 0.4834 - val_loss: 0.0303 - val_acc: 0.6048\n",
            "1600/1600 [==============================] - 5s 3ms/step - loss: 0.0450 - acc: 0.4912 - val_loss: 0.0295 - val_acc: 0.6105\n",
            "1600/1600 [==============================] - 5s 3ms/step - loss: 0.0438 - acc: 0.4976 - val_loss: 0.0288 - val_acc: 0.6172\n",
            "1600/1600 [==============================] - 5s 3ms/step - loss: 0.0430 - acc: 0.5003 - val_loss: 0.0282 - val_acc: 0.6214\n",
            "1600/1600 [==============================] - 5s 3ms/step - loss: 0.0417 - acc: 0.5054 - val_loss: 0.0277 - val_acc: 0.6257\n",
            "1600/1600 [==============================] - 5s 3ms/step - loss: 0.0407 - acc: 0.5112 - val_loss: 0.0272 - val_acc: 0.6312\n",
            "1600/1600 [==============================] - 5s 3ms/step - loss: 0.0398 - acc: 0.5154 - val_loss: 0.0268 - val_acc: 0.6347\n",
            "1600/1600 [==============================] - 5s 3ms/step - loss: 0.0390 - acc: 0.5172 - val_loss: 0.0264 - val_acc: 0.6381\n",
            "1600/1600 [==============================] - 5s 3ms/step - loss: 0.0383 - acc: 0.5237 - val_loss: 0.0260 - val_acc: 0.6417\n",
            "1600/1600 [==============================] - 5s 3ms/step - loss: 0.0378 - acc: 0.5256 - val_loss: 0.0257 - val_acc: 0.6446\n",
            "1600/1600 [==============================] - 5s 3ms/step - loss: 0.0369 - acc: 0.5286 - val_loss: 0.0254 - val_acc: 0.6486\n",
            "1600/1600 [==============================] - 5s 3ms/step - loss: 0.0364 - acc: 0.5311 - val_loss: 0.0252 - val_acc: 0.6527\n",
            "1600/1600 [==============================] - 5s 3ms/step - loss: 0.0358 - acc: 0.5355 - val_loss: 0.0249 - val_acc: 0.6553\n",
            "1600/1600 [==============================] - 5s 3ms/step - loss: 0.0353 - acc: 0.5393 - val_loss: 0.0247 - val_acc: 0.6583\n",
            "1600/1600 [==============================] - 5s 3ms/step - loss: 0.0348 - acc: 0.5397 - val_loss: 0.0245 - val_acc: 0.6610\n",
            "1600/1600 [==============================] - 5s 3ms/step - loss: 0.0345 - acc: 0.5427 - val_loss: 0.0243 - val_acc: 0.6639\n",
            "1600/1600 [==============================] - 5s 3ms/step - loss: 0.0339 - acc: 0.5473 - val_loss: 0.0241 - val_acc: 0.6662\n",
            "1600/1600 [==============================] - 5s 3ms/step - loss: 0.0335 - acc: 0.5484 - val_loss: 0.0239 - val_acc: 0.6680\n",
            "1600/1600 [==============================] - 5s 3ms/step - loss: 0.0332 - acc: 0.5509 - val_loss: 0.0237 - val_acc: 0.6696\n",
            "1600/1600 [==============================] - 5s 3ms/step - loss: 0.0327 - acc: 0.5571 - val_loss: 0.0236 - val_acc: 0.6729\n",
            "1600/1600 [==============================] - 5s 3ms/step - loss: 0.0325 - acc: 0.5565 - val_loss: 0.0234 - val_acc: 0.6740\n"
          ],
          "name": "stdout"
        },
        {
          "output_type": "execute_result",
          "data": {
            "text/plain": [
              "[<matplotlib.lines.Line2D at 0x7f547968a2e8>]"
            ]
          },
          "metadata": {
            "tags": []
          },
          "execution_count": 15
        },
        {
          "output_type": "display_data",
          "data": {
            "image/png": "[encoded data removed]",
            "text/plain": [
              "<Figure size 432x288 with 1 Axes>"
            ]
          },
          "metadata": {
            "tags": [],
            "needs_background": "light"
          }
        },
        {
          "output_type": "display_data",
          "data": {
            "image/png": "[encoded data removed]",
            "text/plain": [
              "<Figure size 432x288 with 1 Axes>"
            ]
          },
          "metadata": {
            "tags": [],
            "needs_background": "light"
          }
        }
      ]
    },
    {
      "cell_type": "markdown",
      "metadata": {
        "id": "IhlbBCO3QgGJ"
      },
      "source": [
        "Check model"
      ]
    },
    {
      "cell_type": "code",
      "metadata": {
        "colab": {
          "base_uri": "https://localhost:8080/"
        },
        "id": "nP9y2HJFRJox",
        "outputId": "02ca8744-0047-4bf9-b1e6-56bb24f21ec8"
      },
      "source": [
        "predicted_boxes = model.predict(x_test)\r\n",
        "predicted_boxes = predicted_boxes * image_size\r\n",
        "predicted_boxes = predicted_boxes.reshape(len(predicted_boxes), num_rectangles, -1)\r\n",
        "predicted_boxes.shape"
      ],
      "execution_count": 16,
      "outputs": [
        {
          "output_type": "execute_result",
          "data": {
            "text/plain": [
              "(20000, 1, 4)"
            ]
          },
          "metadata": {
            "tags": []
          },
          "execution_count": 16
        }
      ]
    },
    {
      "cell_type": "code",
      "metadata": {
        "colab": {
          "base_uri": "https://localhost:8080/",
          "height": 197
        },
        "id": "FiWXlFt1Qd4L",
        "outputId": "b4cfa1e8-a78c-4b99-bb8d-a3e8fb92b1aa"
      },
      "source": [
        "plt.figure(figsize=(12, 3))\r\n",
        "for i_subplot in range(1, 5):\r\n",
        "    plt.subplot(1, 4, i_subplot)\r\n",
        "    i = np.random.randint(len(test_images))\r\n",
        "    plt.imshow(test_images[i].T, cmap='Greys', interpolation='none', origin='lower', extent=[0, image_size, 0, image_size])\r\n",
        "    for pred_box, exp_bbox in zip(predicted_boxes[i], test_boxes[i]):\r\n",
        "        plt.gca().add_patch(matplotlib.patches.Rectangle((pred_box[0], pred_box[1]), pred_box[2], pred_box[3], ec='r', fc='none'))"
      ],
      "execution_count": 17,
      "outputs": [
        {
          "output_type": "display_data",
          "data": {
            "image/png": "[encoded data removed]",
            "text/plain": [
              "<Figure size 864x216 with 4 Axes>"
            ]
          },
          "metadata": {
            "tags": [],
            "needs_background": "light"
          }
        }
      ]
    }
  ]
}